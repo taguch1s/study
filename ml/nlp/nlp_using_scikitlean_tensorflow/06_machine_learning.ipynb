{
  "nbformat": 4,
  "nbformat_minor": 0,
  "metadata": {
    "colab": {
      "provenance": [],
      "toc_visible": true,
      "include_colab_link": true
    },
    "kernelspec": {
      "name": "python3",
      "display_name": "Python 3"
    }
  },
  "cells": [
    {
      "cell_type": "markdown",
      "metadata": {
        "id": "view-in-github",
        "colab_type": "text"
      },
      "source": [
        "<a href=\"https://colab.research.google.com/github/taguch1s/study/blob/main/nlp_using_scikitlean_tensorflow/06_machine_learning.ipynb\" target=\"_parent\"><img src=\"https://colab.research.google.com/assets/colab-badge.svg\" alt=\"Open In Colab\"/></a>"
      ]
    },
    {
      "cell_type": "markdown",
      "metadata": {
        "id": "Rq5fgoLnfJxS"
      },
      "source": [
        "# Text Classification using Logistic Regression"
      ]
    },
    {
      "cell_type": "markdown",
      "metadata": {
        "id": "wkDOfRY-iGa6"
      },
      "source": [
        "## Setup"
      ]
    },
    {
      "cell_type": "code",
      "metadata": {
        "id": "JBYtpv8ZeXsX",
        "outputId": "804e051d-4cb3-46e7-83ad-6688580a4fcc",
        "colab": {
          "base_uri": "https://localhost:8080/"
        }
      },
      "source": [
        "!pip install janome beautifulsoup4"
      ],
      "execution_count": null,
      "outputs": [
        {
          "output_type": "stream",
          "text": [
            "Collecting janome\n",
            "\u001b[?25l  Downloading https://files.pythonhosted.org/packages/a8/63/98858cbead27df7536c7e300c169da0999e9704d02220dc6700b804eeff0/Janome-0.4.1-py2.py3-none-any.whl (19.7MB)\n",
            "\u001b[K     |████████████████████████████████| 19.7MB 1.7MB/s \n",
            "\u001b[?25hRequirement already satisfied: beautifulsoup4 in /usr/local/lib/python3.6/dist-packages (4.6.3)\n",
            "Installing collected packages: janome\n",
            "Successfully installed janome-0.4.1\n"
          ],
          "name": "stdout"
        }
      ]
    },
    {
      "cell_type": "markdown",
      "metadata": {
        "id": "5FjfTvKlfY69"
      },
      "source": [
        "## Imports"
      ]
    },
    {
      "cell_type": "code",
      "metadata": {
        "id": "99fqv0lKfcYS"
      },
      "source": [
        "import matplotlib.pyplot as plt\n",
        "import numpy as np\n",
        "import pandas as pd\n",
        "import string\n",
        "from bs4 import BeautifulSoup\n",
        "from janome.tokenizer import Tokenizer\n",
        "from sklearn.feature_extraction.text import TfidfVectorizer\n",
        "from sklearn.linear_model import LogisticRegression\n",
        "from sklearn.metrics import accuracy_score\n",
        "from sklearn.model_selection import cross_val_score, learning_curve, train_test_split, GridSearchCV, ShuffleSplit"
      ],
      "execution_count": null,
      "outputs": []
    },
    {
      "cell_type": "markdown",
      "metadata": {
        "id": "LPryIOcjgeTj"
      },
      "source": [
        "## The dataset\n",
        "\n",
        "今回は、データセットとして[Amazon Customer Reviews Dataset](https://s3.amazonaws.com/amazon-reviews-pds/readme.html)を使います。このデータセットは、Amazonの製品レビューにメタデータを付与して作成されたコーパスです。データの中に評価（1-5）が含まれているため、テキスト分類モデルの学習に使うことができます。\n",
        "\n",
        "今回は以下の設定で使うことにします。\n",
        "\n",
        "- Number of labels: 2.\n",
        "- Size of training dataset: 8000.\n",
        "- Size of evaluation dataset: 2000.\n",
        "- Language: Japanese"
      ]
    },
    {
      "cell_type": "markdown",
      "metadata": {
        "id": "lXcA2ZeohK1T"
      },
      "source": [
        "### Load the Amazon Customer Reviews Datasets"
      ]
    },
    {
      "cell_type": "code",
      "metadata": {
        "id": "NldWkmWqg3eD"
      },
      "source": [
        "def filter_by_ascii_rate(text, threshold=0.9):\n",
        "    ascii_letters = set(string.printable)\n",
        "    rate = sum(c in ascii_letters for c in text) / len(text)\n",
        "    return rate <= threshold\n",
        "\n",
        "\n",
        "def load_dataset(filename, n=5000, state=6):\n",
        "    df = pd.read_csv(filename, sep='\\t')\n",
        "\n",
        "    # Converts multi-class to binary-class.\n",
        "    mapping = {1: 0, 2: 0, 4: 1, 5: 1}\n",
        "    df = df[df.star_rating != 3]\n",
        "    df.star_rating = df.star_rating.map(mapping)\n",
        "\n",
        "    # extracts Japanese texts.\n",
        "    is_jp = df.review_body.apply(filter_by_ascii_rate)\n",
        "    df = df[is_jp]\n",
        "\n",
        "    # sampling.\n",
        "    df = df.sample(frac=1, random_state=state)  # shuffle\n",
        "    grouped = df.groupby('star_rating')\n",
        "    df = grouped.head(n=n)\n",
        "\n",
        "    return df.review_body.values, df.star_rating.values\n",
        "\n",
        "\n",
        "url = 'https://s3.amazonaws.com/amazon-reviews-pds/tsv/amazon_reviews_multilingual_JP_v1_00.tsv.gz'\n",
        "x, y = load_dataset(url, n=5000)"
      ],
      "execution_count": null,
      "outputs": []
    },
    {
      "cell_type": "code",
      "metadata": {
        "id": "gwSgdQZTjLwb",
        "outputId": "b6f12d52-1171-440b-c2d2-b8a385ac2154",
        "colab": {
          "base_uri": "https://localhost:8080/",
          "height": 103
        }
      },
      "source": [
        "x[0]"
      ],
      "execution_count": null,
      "outputs": [
        {
          "output_type": "execute_result",
          "data": {
            "application/vnd.google.colaboratory.intrinsic+json": {
              "type": "string"
            },
            "text/plain": [
              "'現在、地球温暖化の悪影響が、ここまで顕在化しているとは<br />想像していませんでした。特に、このまま海面温度が上昇を<br />続けると、早晩、南極・北極の氷が大規模に溶けることに<br />よって相当の範囲の陸地が海に没し、十億人単位での難民が<br />発生するという事実には、本当に衝撃を受けました。<br /><br />ある人が、「人間は地球にすくう癌細胞のようである。<br />増殖・破壊を続け、最終的には自らも寄生先の死によって<br />滅ぶ運命にある」と言っていたことを思い出しました。<br /><br />一方、主人公であるゴア氏が、聴衆が数十人〜数百人程度の<br />世界中の教室・会議場をまわって危機を訴えるという、地道<br />な「草の根」の活動にも大変感銘を受けました。個人的には、<br />ゴア氏には、ブッシュ氏との大統領戦における、「賢いが<br />傲慢で冷徹」というイメージが強かったのですが、およそ<br />そんなことはない（＝きっと、ブッシュ陣営のネガティブ・<br />キャンペーンの影響を愚かにも受けていたのでしょう）、<br />信念を持ち、実行力が伴った、特筆すべき政治家であること<br />も分かりました。<br /><br />温暖化の危機、ゴア氏ほかの活動家・学者の行動に対する<br />不明を恥じると共に、自らもCO2ゼロ化に向けて早速行動<br />したいと思いました。<br /><br />なお、当作品は、語られる事象のすべてが具体的かつ<br />客観的に科学的根拠に支えられており、ドキュメンタリー<br />としても秀逸だと思います。<br /><br />是非ご覧になってみて下さい。お奨めします。'"
            ]
          },
          "metadata": {
            "tags": []
          },
          "execution_count": 4
        }
      ]
    },
    {
      "cell_type": "markdown",
      "metadata": {
        "id": "jYdugMjzh8yz"
      },
      "source": [
        "### Preprocess the dataset"
      ]
    },
    {
      "cell_type": "code",
      "metadata": {
        "id": "RWlQYG-phz0n"
      },
      "source": [
        "t = Tokenizer(wakati=True)\n",
        "\n",
        "\n",
        "def tokenize(text):\n",
        "    return t.tokenize(text)\n",
        "\n",
        "\n",
        "def clean_html(html, strip=False):\n",
        "    soup = BeautifulSoup(html, 'html.parser')\n",
        "    text = soup.get_text(strip=strip)\n",
        "    return text"
      ],
      "execution_count": null,
      "outputs": []
    },
    {
      "cell_type": "code",
      "metadata": {
        "id": "_08E6sAEjeag"
      },
      "source": [
        "x = [clean_html(text, strip=True) for text in x]\n",
        "x_train, x_test, y_train, y_test = train_test_split(x, y, test_size=0.2, random_state=42)\n",
        "\n",
        "vectorizer = TfidfVectorizer(tokenizer=tokenize)\n",
        "x_train_vec = vectorizer.fit_transform(x_train)\n",
        "x_test_vec = vectorizer.transform(x_test)"
      ],
      "execution_count": null,
      "outputs": []
    },
    {
      "cell_type": "markdown",
      "metadata": {
        "id": "U3sZjwO-j_E3"
      },
      "source": [
        "## Experiments"
      ]
    },
    {
      "cell_type": "markdown",
      "metadata": {
        "id": "Fr4iyOF9iAM9"
      },
      "source": [
        "### Cross Validation"
      ]
    },
    {
      "cell_type": "code",
      "metadata": {
        "id": "G5kR1AFukfSA",
        "outputId": "e84f2df7-ef32-4c27-b61a-f249dc7fea14",
        "colab": {
          "base_uri": "https://localhost:8080/"
        }
      },
      "source": [
        "clf = LogisticRegression(solver='liblinear')\n",
        "scores = cross_val_score(clf, x_train_vec, y_train, cv=5)\n",
        "print(scores)\n",
        "print('Accuracy: {:.4f} (+/- {:.4f})'.format(scores.mean(), scores.std() * 2))\n",
        "\n",
        "clf.fit(x_train_vec, y_train)\n",
        "y_pred = clf.predict(x_test_vec)\n",
        "score = accuracy_score(y_test, y_pred)\n",
        "print('Accuracy(test): {:.4f}'.format(score))"
      ],
      "execution_count": null,
      "outputs": [
        {
          "output_type": "stream",
          "text": [
            "[0.8175   0.83375  0.8225   0.8275   0.820625]\n",
            "Accuracy: 0.8244 (+/- 0.0114)\n",
            "Accuracy(test): 0.8440\n"
          ],
          "name": "stdout"
        }
      ]
    },
    {
      "cell_type": "markdown",
      "metadata": {
        "id": "pcIVNpJkG6As"
      },
      "source": [
        "### Draw Learning Curve"
      ]
    },
    {
      "cell_type": "code",
      "metadata": {
        "id": "Ayg91NChkrA8"
      },
      "source": [
        "def plot_learning_curve(estimator, title, X, y, ylim=None, cv=None,\n",
        "                        n_jobs=-1, train_sizes=np.linspace(.1, 1.0, 5)):\n",
        "    plt.figure()\n",
        "    plt.title(title)\n",
        "    if ylim is not None:\n",
        "        plt.ylim(*ylim)\n",
        "    plt.xlabel('Training examples')\n",
        "    plt.ylabel('Score')\n",
        "    train_sizes, train_scores, test_scores = learning_curve(\n",
        "        estimator, X, y, cv=cv, n_jobs=n_jobs, train_sizes=train_sizes)\n",
        "    train_scores_mean = np.mean(train_scores, axis=1)\n",
        "    train_scores_std = np.std(train_scores, axis=1)\n",
        "    test_scores_mean = np.mean(test_scores, axis=1)\n",
        "    test_scores_std = np.std(test_scores, axis=1)\n",
        "    plt.grid()\n",
        "\n",
        "    plt.fill_between(train_sizes, train_scores_mean - train_scores_std,\n",
        "                     train_scores_mean + train_scores_std, alpha=0.1,\n",
        "                     color='r')\n",
        "    plt.fill_between(train_sizes, test_scores_mean - test_scores_std,\n",
        "                     test_scores_mean + test_scores_std, alpha=0.1, color='g')\n",
        "    plt.plot(train_sizes, train_scores_mean, 'o-', color='r',\n",
        "             label='Training score')\n",
        "    plt.plot(train_sizes, test_scores_mean, 'o-', color='g',\n",
        "             label='Cross-validation score')\n",
        "\n",
        "    plt.legend(loc='best')\n",
        "\n",
        "    plt.show()"
      ],
      "execution_count": null,
      "outputs": []
    },
    {
      "cell_type": "code",
      "metadata": {
        "id": "TZ4OkTUNkvQ1",
        "outputId": "22f394d2-a8c5-41b3-be65-89344aacdc5e",
        "colab": {
          "base_uri": "https://localhost:8080/",
          "height": 295
        }
      },
      "source": [
        "title = 'Learning Curves'\n",
        "cv = ShuffleSplit(n_splits=5, test_size=0.2, random_state=0)\n",
        "clf = LogisticRegression(solver='liblinear')\n",
        "plot_learning_curve(clf, title, x_train_vec, y_train, cv=cv)"
      ],
      "execution_count": null,
      "outputs": [
        {
          "output_type": "display_data",
          "data": {
            "image/png": "[encoded data removed]",
            "text/plain": [
              "<Figure size 432x288 with 1 Axes>"
            ]
          },
          "metadata": {
            "tags": [],
            "needs_background": "light"
          }
        }
      ]
    },
    {
      "cell_type": "markdown",
      "metadata": {
        "id": "fYvD0DSEG95B"
      },
      "source": [
        "### Hyper-parameter Optimization"
      ]
    },
    {
      "cell_type": "code",
      "metadata": {
        "id": "zKbnxFOrk1Q0",
        "outputId": "3f88043a-a542-4fdf-acd0-0243835481ad",
        "colab": {
          "base_uri": "https://localhost:8080/"
        }
      },
      "source": [
        "parameters = {\n",
        "    'penalty': ['l1', 'l2'],\n",
        "    'C': [0.01, 0.03, 0.1, 0.3, 0.7, 1, 1.01, 1.03, 1.07, 1.1, 1.3, 1.7, 3]\n",
        "}\n",
        "lr = LogisticRegression(solver='liblinear')\n",
        "clf = GridSearchCV(lr, parameters, cv=5, n_jobs=-1)\n",
        "clf.fit(x_train_vec, y_train)\n",
        "\n",
        "best_clf = clf.best_estimator_\n",
        "print(clf.best_params_)\n",
        "print('Accuracy(best): {:.4f}'.format(clf.best_score_))\n",
        "y_pred = best_clf.predict(x_test_vec)\n",
        "score = accuracy_score(y_test, y_pred)\n",
        "print('Accuracy(test): {:.4f}'.format(score))"
      ],
      "execution_count": null,
      "outputs": [
        {
          "output_type": "stream",
          "text": [
            "{'C': 3, 'penalty': 'l2'}\n",
            "Accuracy(best): 0.8331\n",
            "Accuracy(test): 0.8540\n"
          ],
          "name": "stdout"
        }
      ]
    },
    {
      "cell_type": "markdown",
      "metadata": {
        "id": "cXBnnto3ljPb"
      },
      "source": [
        "### Visualize neg/pos features\n",
        "\n",
        "おまけ: 学習した分類器の係数を基に、簡易的にですが、neg/posの分類に効いている特徴を可視化してみましょう。"
      ]
    },
    {
      "cell_type": "code",
      "metadata": {
        "id": "6CKAVwx_HkmG",
        "outputId": "8850a8cd-60ac-4dc3-d9df-460f5d98c316",
        "colab": {
          "base_uri": "https://localhost:8080/"
        }
      },
      "source": [
        "clf = LogisticRegression(penalty='l1', solver='liblinear')\n",
        "clf.fit(x_train_vec, y_train)"
      ],
      "execution_count": null,
      "outputs": [
        {
          "output_type": "execute_result",
          "data": {
            "text/plain": [
              "LogisticRegression(C=1.0, class_weight=None, dual=False, fit_intercept=True,\n",
              "                   intercept_scaling=1, l1_ratio=None, max_iter=100,\n",
              "                   multi_class='auto', n_jobs=None, penalty='l1',\n",
              "                   random_state=None, solver='liblinear', tol=0.0001, verbose=0,\n",
              "                   warm_start=False)"
            ]
          },
          "metadata": {
            "tags": []
          },
          "execution_count": 25
        }
      ]
    },
    {
      "cell_type": "code",
      "metadata": {
        "id": "_tPxYt-Yl0DP"
      },
      "source": [
        "feature_coef = sorted(zip(clf.coef_[0], vectorizer.get_feature_names()))\n",
        "num_features = 50"
      ],
      "execution_count": null,
      "outputs": []
    },
    {
      "cell_type": "code",
      "metadata": {
        "id": "__MpDeLWme7X",
        "outputId": "5b576fe5-e072-4ea7-d88a-ddf20c8ca3e0",
        "colab": {
          "base_uri": "https://localhost:8080/"
        }
      },
      "source": [
        "neg_features = feature_coef[:num_features]\n",
        "neg_features"
      ],
      "execution_count": null,
      "outputs": [
        {
          "output_type": "execute_result",
          "data": {
            "text/plain": [
              "[(-12.85161160768079, 'がっかり'),\n",
              " (-10.767219640668403, '残念'),\n",
              " (-10.051482807443334, '駄作'),\n",
              " (-9.695630454182789, '返品'),\n",
              " (-8.980254444217394, 'ない'),\n",
              " (-8.321718381558062, 'のに'),\n",
              " (-7.946590672965331, 'ひどい'),\n",
              " (-7.250056479532265, '評価'),\n",
              " (-7.009250111894679, 'ガッカリ'),\n",
              " (-6.675655754933128, '最悪'),\n",
              " (-6.667048593560964, 'ませ'),\n",
              " (-6.564962170234089, 'すぎ'),\n",
              " (-6.485715985229304, 'ダメ'),\n",
              " (-6.378969074273843, '悪い'),\n",
              " (-6.164071275617413, 'なかっ'),\n",
              " (-5.904022994139838, '退屈'),\n",
              " (-5.803137847608894, 'つまらない'),\n",
              " (-5.74750052058162, 'すぎる'),\n",
              " (-5.361098169022657, '中途半端'),\n",
              " (-5.098321804513297, '？'),\n",
              " (-4.938061657307268, 'レンタル'),\n",
              " (-4.876682307213126, '声優'),\n",
              " (-4.64820251172889, 'あまりに'),\n",
              " (-4.5288506617981765, '失敗'),\n",
              " (-4.521576323485976, '?'),\n",
              " (-4.310057958036719, 'なら'),\n",
              " (-4.10126929106065, 'しろ'),\n",
              " (-4.019336117382805, 'だけ'),\n",
              " (-3.939911068904153, '最低'),\n",
              " (-3.87793392872595, 'し'),\n",
              " (-3.7944923132697337, 'のみ'),\n",
              " (-3.7486859146097307, '途中'),\n",
              " (-3.682635483720624, '正直'),\n",
              " (-3.6477502156043258, 'ん'),\n",
              " (-3.637946835321727, 'か'),\n",
              " (-3.4478288253486964, '出し'),\n",
              " (-3.422721885831455, 'ヤマト'),\n",
              " (-3.3217767084165417, '全く'),\n",
              " (-3.1480170325861176, '商品'),\n",
              " (-3.03664099094875, 'しよ'),\n",
              " (-3.0218981407380974, '無い'),\n",
              " (-3.0139521355027297, '同じ'),\n",
              " (-2.98661418189855, '金'),\n",
              " (-2.9741770671554755, '削除'),\n",
              " (-2.9570177012378576, '２つ'),\n",
              " (-2.9028171042276663, '内容'),\n",
              " (-2.8963199974947016, '期待'),\n",
              " (-2.8485945891780506, 'ストーリー'),\n",
              " (-2.8022697292403436, 'って'),\n",
              " (-2.789176369803506, '再生')]"
            ]
          },
          "metadata": {
            "tags": []
          },
          "execution_count": 27
        }
      ]
    },
    {
      "cell_type": "code",
      "metadata": {
        "id": "wSpKWcQImjf6",
        "outputId": "e7562f39-c92e-4099-9cdd-8f8bf8d7b2a9",
        "colab": {
          "base_uri": "https://localhost:8080/"
        }
      },
      "source": [
        "pos_features = feature_coef[-num_features:][::-1]\n",
        "pos_features"
      ],
      "execution_count": null,
      "outputs": [
        {
          "output_type": "execute_result",
          "data": {
            "text/plain": [
              "[(9.900107203144929, '満足'),\n",
              " (8.93011589211124, '是非'),\n",
              " (7.901564205120403, '最高'),\n",
              " (7.579076543725971, '素晴らしい'),\n",
              " (7.562440164777936, '傑作'),\n",
              " (6.0939586229532, '楽しめ'),\n",
              " (5.711942955546392, 'ます'),\n",
              " (5.531819117302129, 'できる'),\n",
              " (5.499660545447942, 'そして'),\n",
              " (5.468393115452372, 'とても'),\n",
              " (4.9887798588317835, '♪'),\n",
              " (4.727571887985393, 'やすい'),\n",
              " (4.348074946254973, 'くれる'),\n",
              " (4.336678632369818, '便利'),\n",
              " (4.290071526771762, '年'),\n",
              " (4.242239853750389, '見事'),\n",
              " (4.237096730197394, '聴い'),\n",
              " (4.078804543082052, '文句'),\n",
              " (4.033409665434966, 'ギター'),\n",
              " (4.011797566464488, 'いく'),\n",
              " (3.9441095478677335, '心'),\n",
              " (3.7817231404254947, 'こと'),\n",
              " (3.718373885142847, 'なかなか'),\n",
              " (3.673677875817371, 'も'),\n",
              " (3.491095442477997, '嬉しい'),\n",
              " (3.2327195921687784, '彼'),\n",
              " (3.168372309565237, '！'),\n",
              " (3.132579544522574, '楽しい'),\n",
              " (3.127637288606355, '頃'),\n",
              " (3.0706027837223346, '楽しめる'),\n",
              " (2.9750182780909724, 'ながら'),\n",
              " (2.9143115041191834, 'まさに'),\n",
              " (2.87753130195919, '時代'),\n",
              " (2.845953167451273, '強い'),\n",
              " (2.8117938619103735, '面白い'),\n",
              " (2.6915398887978252, 'です'),\n",
              " (2.601323291131508, '価格'),\n",
              " (2.5857078054207228, '４つ'),\n",
              " (2.5488817441008833, 'アルバム'),\n",
              " (2.5274366031589777, 'い'),\n",
              " (2.5033121846123394, '音楽'),\n",
              " (2.492547130006332, '楽しく'),\n",
              " (2.378947120543964, '買い'),\n",
              " (2.37600851752266, 'いつも'),\n",
              " (2.370527732683149, '曲'),\n",
              " (2.331353888642858, '気に入っ'),\n",
              " (2.173836080412379, 'させ'),\n",
              " (2.1724467560566656, 'ぜひ'),\n",
              " (2.167577347314159, '度'),\n",
              " (2.109634491554852, 'バンド')]"
            ]
          },
          "metadata": {
            "tags": []
          },
          "execution_count": 28
        }
      ]
    },
    {
      "cell_type": "markdown",
      "metadata": {
        "id": "ztDCNDWYoZyd"
      },
      "source": [
        "neg/posの分類に効いている特徴を表示してみました。こうして可視化をすると、改善のための気付きを得るのに役立ちます。\n",
        "\n",
        "neg/posの両方に「2つ/4つ」という単語が分類に効いていることがわかります。これは元は「星2つ」のような文だったと考えられます。認識性能を上げるためだけなら含めておいてもよいと思いますが、こうした評価そのものを表す単語を使って予測したくない場合は、前処理で取り除きましょう。他にも、ストップワードの除去やbigram, trigramが性能向上に効きそうだという仮説を立てることができます。"
      ]
    },
    {
      "cell_type": "markdown",
      "metadata": {
        "id": "Bna6gf-mnSMb"
      },
      "source": [
        "### Visualize feaatures using ELI5\n",
        "\n",
        "おまけ: [ELI5](https://eli5.readthedocs.io/en/latest/)を使って特徴を可視化してみましょう。"
      ]
    },
    {
      "cell_type": "code",
      "metadata": {
        "id": "XKk7R57bm5gV",
        "outputId": "b106dfe7-21f1-4309-ee4d-b6f2f0541593",
        "colab": {
          "base_uri": "https://localhost:8080/"
        }
      },
      "source": [
        "!pip install eli5"
      ],
      "execution_count": null,
      "outputs": [
        {
          "output_type": "stream",
          "text": [
            "Collecting eli5\n",
            "\u001b[?25l  Downloading https://files.pythonhosted.org/packages/97/2f/c85c7d8f8548e460829971785347e14e45fa5c6617da374711dec8cb38cc/eli5-0.10.1-py2.py3-none-any.whl (105kB)\n",
            "\u001b[K     |████████████████████████████████| 112kB 2.7MB/s \n",
            "\u001b[?25hRequirement already satisfied: tabulate>=0.7.7 in /usr/local/lib/python3.6/dist-packages (from eli5) (0.8.7)\n",
            "Requirement already satisfied: numpy>=1.9.0 in /usr/local/lib/python3.6/dist-packages (from eli5) (1.18.5)\n",
            "Requirement already satisfied: jinja2 in /usr/local/lib/python3.6/dist-packages (from eli5) (2.11.2)\n",
            "Requirement already satisfied: attrs>16.0.0 in /usr/local/lib/python3.6/dist-packages (from eli5) (20.2.0)\n",
            "Requirement already satisfied: scipy in /usr/local/lib/python3.6/dist-packages (from eli5) (1.4.1)\n",
            "Requirement already satisfied: graphviz in /usr/local/lib/python3.6/dist-packages (from eli5) (0.10.1)\n",
            "Requirement already satisfied: six in /usr/local/lib/python3.6/dist-packages (from eli5) (1.15.0)\n",
            "Requirement already satisfied: scikit-learn>=0.18 in /usr/local/lib/python3.6/dist-packages (from eli5) (0.22.2.post1)\n",
            "Requirement already satisfied: MarkupSafe>=0.23 in /usr/local/lib/python3.6/dist-packages (from jinja2->eli5) (1.1.1)\n",
            "Requirement already satisfied: joblib>=0.11 in /usr/local/lib/python3.6/dist-packages (from scikit-learn>=0.18->eli5) (0.17.0)\n",
            "Installing collected packages: eli5\n",
            "Successfully installed eli5-0.10.1\n"
          ],
          "name": "stdout"
        }
      ]
    },
    {
      "cell_type": "code",
      "metadata": {
        "id": "pavBnlfdnVZR"
      },
      "source": [
        "import eli5"
      ],
      "execution_count": null,
      "outputs": []
    },
    {
      "cell_type": "code",
      "metadata": {
        "id": "pg5aIhvnnYdh",
        "outputId": "1c452a2a-dfea-4024-c972-a3539ab9d189",
        "colab": {
          "base_uri": "https://localhost:8080/",
          "height": 413
        }
      },
      "source": [
        "doc = x_test[0]\n",
        "print(doc)\n",
        "eli5.show_prediction(clf, doc, vec=vectorizer, target_names=['neg', 'pos'])"
      ],
      "execution_count": null,
      "outputs": [
        {
          "output_type": "stream",
          "text": [
            "剛力の吹き替えが酷いですが、ALIEN好きならシリーズ全てコンプリートしておかないと　その為に購入しました。\n"
          ],
          "name": "stdout"
        },
        {
          "output_type": "execute_result",
          "data": {
            "text/html": [
              "\n",
              "    <style>\n",
              "    table.eli5-weights tr:hover {\n",
              "        filter: brightness(85%);\n",
              "    }\n",
              "</style>\n",
              "\n",
              "\n",
              "\n",
              "    \n",
              "\n",
              "    \n",
              "\n",
              "    \n",
              "\n",
              "    \n",
              "\n",
              "    \n",
              "\n",
              "    \n",
              "\n",
              "\n",
              "    \n",
              "\n",
              "    \n",
              "\n",
              "    \n",
              "\n",
              "    \n",
              "        \n",
              "\n",
              "    \n",
              "\n",
              "        \n",
              "            \n",
              "                \n",
              "                \n",
              "    \n",
              "        <p style=\"margin-bottom: 0.5em; margin-top: 0em\">\n",
              "            <b>\n",
              "    \n",
              "        y=neg\n",
              "    \n",
              "</b>\n",
              "\n",
              "    \n",
              "    (probability <b>0.894</b>, score <b>-2.128</b>)\n",
              "\n",
              "top features\n",
              "        </p>\n",
              "    \n",
              "    <table class=\"eli5-weights\"\n",
              "           style=\"border-collapse: collapse; border: none; margin-top: 0em; table-layout: auto; margin-bottom: 2em;\">\n",
              "        <thead>\n",
              "        <tr style=\"border: none;\">\n",
              "            \n",
              "                <th style=\"padding: 0 1em 0 0.5em; text-align: right; border: none;\" title=\"Feature contribution already accounts for the feature value (for linear models, contribution = weight * feature value), and the sum of feature contributions is equal to the score or, for some classifiers, to the probability. Feature values are shown if &quot;show_feature_values&quot; is True.\">\n",
              "                    Contribution<sup>?</sup>\n",
              "                </th>\n",
              "            \n",
              "            <th style=\"padding: 0 0.5em 0 0.5em; text-align: left; border: none;\">Feature</th>\n",
              "            \n",
              "        </tr>\n",
              "        </thead>\n",
              "        <tbody>\n",
              "        \n",
              "            <tr style=\"background-color: hsl(120, 100.00%, 80.00%); border: none;\">\n",
              "    <td style=\"padding: 0 1em 0 0.5em; text-align: right; border: none;\">\n",
              "        +0.749\n",
              "    </td>\n",
              "    <td style=\"padding: 0 0.5em 0 0.5em; text-align: left; border: none;\">\n",
              "        ない\n",
              "    </td>\n",
              "    \n",
              "</tr>\n",
              "        \n",
              "            <tr style=\"background-color: hsl(120, 100.00%, 81.40%); border: none;\">\n",
              "    <td style=\"padding: 0 1em 0 0.5em; text-align: right; border: none;\">\n",
              "        +0.675\n",
              "    </td>\n",
              "    <td style=\"padding: 0 0.5em 0 0.5em; text-align: left; border: none;\">\n",
              "        吹き替え\n",
              "    </td>\n",
              "    \n",
              "</tr>\n",
              "        \n",
              "            <tr style=\"background-color: hsl(120, 100.00%, 81.59%); border: none;\">\n",
              "    <td style=\"padding: 0 1em 0 0.5em; text-align: right; border: none;\">\n",
              "        +0.666\n",
              "    </td>\n",
              "    <td style=\"padding: 0 0.5em 0 0.5em; text-align: left; border: none;\">\n",
              "        なら\n",
              "    </td>\n",
              "    \n",
              "</tr>\n",
              "        \n",
              "            <tr style=\"background-color: hsl(120, 100.00%, 83.60%); border: none;\">\n",
              "    <td style=\"padding: 0 1em 0 0.5em; text-align: right; border: none;\">\n",
              "        +0.564\n",
              "    </td>\n",
              "    <td style=\"padding: 0 0.5em 0 0.5em; text-align: left; border: none;\">\n",
              "        し\n",
              "    </td>\n",
              "    \n",
              "</tr>\n",
              "        \n",
              "            <tr style=\"background-color: hsl(120, 100.00%, 92.59%); border: none;\">\n",
              "    <td style=\"padding: 0 1em 0 0.5em; text-align: right; border: none;\">\n",
              "        +0.181\n",
              "    </td>\n",
              "    <td style=\"padding: 0 0.5em 0 0.5em; text-align: left; border: none;\">\n",
              "        が\n",
              "    </td>\n",
              "    \n",
              "</tr>\n",
              "        \n",
              "            <tr style=\"background-color: hsl(120, 100.00%, 95.14%); border: none;\">\n",
              "    <td style=\"padding: 0 1em 0 0.5em; text-align: right; border: none;\">\n",
              "        +0.099\n",
              "    </td>\n",
              "    <td style=\"padding: 0 0.5em 0 0.5em; text-align: left; border: none;\">\n",
              "        酷い\n",
              "    </td>\n",
              "    \n",
              "</tr>\n",
              "        \n",
              "            <tr style=\"background-color: hsl(120, 100.00%, 96.95%); border: none;\">\n",
              "    <td style=\"padding: 0 1em 0 0.5em; text-align: right; border: none;\">\n",
              "        +0.051\n",
              "    </td>\n",
              "    <td style=\"padding: 0 0.5em 0 0.5em; text-align: left; border: none;\">\n",
              "        &lt;BIAS&gt;\n",
              "    </td>\n",
              "    \n",
              "</tr>\n",
              "        \n",
              "            <tr style=\"background-color: hsl(120, 100.00%, 99.90%); border: none;\">\n",
              "    <td style=\"padding: 0 1em 0 0.5em; text-align: right; border: none;\">\n",
              "        +0.000\n",
              "    </td>\n",
              "    <td style=\"padding: 0 0.5em 0 0.5em; text-align: left; border: none;\">\n",
              "        た\n",
              "    </td>\n",
              "    \n",
              "</tr>\n",
              "        \n",
              "        \n",
              "\n",
              "        \n",
              "        \n",
              "            <tr style=\"background-color: hsl(0, 100.00%, 98.70%); border: none;\">\n",
              "    <td style=\"padding: 0 1em 0 0.5em; text-align: right; border: none;\">\n",
              "        -0.015\n",
              "    </td>\n",
              "    <td style=\"padding: 0 0.5em 0 0.5em; text-align: left; border: none;\">\n",
              "        購入\n",
              "    </td>\n",
              "    \n",
              "</tr>\n",
              "        \n",
              "            <tr style=\"background-color: hsl(0, 100.00%, 97.79%); border: none;\">\n",
              "    <td style=\"padding: 0 1em 0 0.5em; text-align: right; border: none;\">\n",
              "        -0.032\n",
              "    </td>\n",
              "    <td style=\"padding: 0 0.5em 0 0.5em; text-align: left; border: none;\">\n",
              "        て\n",
              "    </td>\n",
              "    \n",
              "</tr>\n",
              "        \n",
              "            <tr style=\"background-color: hsl(0, 100.00%, 97.12%); border: none;\">\n",
              "    <td style=\"padding: 0 1em 0 0.5em; text-align: right; border: none;\">\n",
              "        -0.047\n",
              "    </td>\n",
              "    <td style=\"padding: 0 0.5em 0 0.5em; text-align: left; border: none;\">\n",
              "        の\n",
              "    </td>\n",
              "    \n",
              "</tr>\n",
              "        \n",
              "            <tr style=\"background-color: hsl(0, 100.00%, 96.45%); border: none;\">\n",
              "    <td style=\"padding: 0 1em 0 0.5em; text-align: right; border: none;\">\n",
              "        -0.063\n",
              "    </td>\n",
              "    <td style=\"padding: 0 0.5em 0 0.5em; text-align: left; border: none;\">\n",
              "        好き\n",
              "    </td>\n",
              "    \n",
              "</tr>\n",
              "        \n",
              "            <tr style=\"background-color: hsl(0, 100.00%, 96.44%); border: none;\">\n",
              "    <td style=\"padding: 0 1em 0 0.5em; text-align: right; border: none;\">\n",
              "        -0.064\n",
              "    </td>\n",
              "    <td style=\"padding: 0 0.5em 0 0.5em; text-align: left; border: none;\">\n",
              "        その\n",
              "    </td>\n",
              "    \n",
              "</tr>\n",
              "        \n",
              "            <tr style=\"background-color: hsl(0, 100.00%, 96.42%); border: none;\">\n",
              "    <td style=\"padding: 0 1em 0 0.5em; text-align: right; border: none;\">\n",
              "        -0.064\n",
              "    </td>\n",
              "    <td style=\"padding: 0 0.5em 0 0.5em; text-align: left; border: none;\">\n",
              "        　\n",
              "    </td>\n",
              "    \n",
              "</tr>\n",
              "        \n",
              "            <tr style=\"background-color: hsl(0, 100.00%, 94.91%); border: none;\">\n",
              "    <td style=\"padding: 0 1em 0 0.5em; text-align: right; border: none;\">\n",
              "        -0.106\n",
              "    </td>\n",
              "    <td style=\"padding: 0 0.5em 0 0.5em; text-align: left; border: none;\">\n",
              "        と\n",
              "    </td>\n",
              "    \n",
              "</tr>\n",
              "        \n",
              "            <tr style=\"background-color: hsl(0, 100.00%, 94.50%); border: none;\">\n",
              "    <td style=\"padding: 0 1em 0 0.5em; text-align: right; border: none;\">\n",
              "        -0.119\n",
              "    </td>\n",
              "    <td style=\"padding: 0 0.5em 0 0.5em; text-align: left; border: none;\">\n",
              "        、\n",
              "    </td>\n",
              "    \n",
              "</tr>\n",
              "        \n",
              "            <tr style=\"background-color: hsl(0, 100.00%, 94.26%); border: none;\">\n",
              "    <td style=\"padding: 0 1em 0 0.5em; text-align: right; border: none;\">\n",
              "        -0.126\n",
              "    </td>\n",
              "    <td style=\"padding: 0 0.5em 0 0.5em; text-align: left; border: none;\">\n",
              "        まし\n",
              "    </td>\n",
              "    \n",
              "</tr>\n",
              "        \n",
              "            <tr style=\"background-color: hsl(0, 100.00%, 91.45%); border: none;\">\n",
              "    <td style=\"padding: 0 1em 0 0.5em; text-align: right; border: none;\">\n",
              "        -0.222\n",
              "    </td>\n",
              "    <td style=\"padding: 0 0.5em 0 0.5em; text-align: left; border: none;\">\n",
              "        です\n",
              "    </td>\n",
              "    \n",
              "</tr>\n",
              "        \n",
              "\n",
              "        </tbody>\n",
              "    </table>\n",
              "\n",
              "            \n",
              "        \n",
              "\n",
              "        \n",
              "\n",
              "\n",
              "\n",
              "    \n",
              "\n",
              "    \n",
              "\n",
              "    \n",
              "\n",
              "    \n",
              "\n",
              "\n",
              "    \n",
              "\n",
              "    \n",
              "\n",
              "    \n",
              "\n",
              "    \n",
              "\n",
              "    \n",
              "\n",
              "    \n",
              "\n",
              "\n",
              "    \n",
              "\n",
              "    \n",
              "\n",
              "    \n",
              "\n",
              "    \n",
              "\n",
              "    \n",
              "\n",
              "    \n",
              "\n",
              "\n",
              "\n"
            ],
            "text/plain": [
              "<IPython.core.display.HTML object>"
            ]
          },
          "metadata": {
            "tags": []
          },
          "execution_count": 30
        }
      ]
    },
    {
      "cell_type": "code",
      "metadata": {
        "id": "JHQ-v43ZnpCz"
      },
      "source": [],
      "execution_count": null,
      "outputs": []
    }
  ]
}